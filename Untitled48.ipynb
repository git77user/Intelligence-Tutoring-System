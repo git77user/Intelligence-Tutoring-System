{
 "cells": [
  {
   "cell_type": "code",
   "execution_count": 1,
   "id": "f15efa18",
   "metadata": {},
   "outputs": [],
   "source": [
    "import tkinter as tk\n",
    "from tkinter import messagebox, Scrollbar, Text\n",
    "import rdflib"
   ]
  },
  {
   "cell_type": "code",
   "execution_count": 2,
   "id": "f10b8a5f",
   "metadata": {},
   "outputs": [],
   "source": [
    "def load_ontology():\n",
    "    graph = rdflib.Graph()\n",
    "    graph.parse(\"ComputerScience.owl\", format=\"xml\")\n",
    "    return graph"
   ]
  },
  {
   "cell_type": "code",
   "execution_count": 3,
   "id": "0cc955b0",
   "metadata": {},
   "outputs": [],
   "source": [
    "# Function to run the SPARQL query and display results\n",
    "def run_query():\n",
    "    query = query_entry.get()\n",
    "    try:\n",
    "        results = graph.query(query)\n",
    "        result_text.delete(1.0, tk.END)  # Clear previous results\n",
    "        # Format and display the results\n",
    "        for row in results:\n",
    "            result_text.insert(tk.END, f\"{row}\\n\")\n",
    "    except Exception as e:\n",
    "        messagebox.showerror(\"Error\", f\"An error occurred: {e}\")\n",
    "\n",
    "# Create the main window\n",
    "root = tk.Tk()\n",
    "root.title(\"SPARQL Query Executor\")\n",
    "root.geometry(\"600x400\")\n",
    "\n",
    "# Load ontology\n",
    "graph = load_ontology()\n",
    "\n",
    "# Create input label and text field for SPARQL query\n",
    "query_label = tk.Label(root, text=\"Enter SPARQL Query:\")\n",
    "query_label.pack(pady=10)\n",
    "\n",
    "query_entry = tk.Entry(root, width=80)\n",
    "query_entry.pack(pady=5)\n",
    "\n",
    "# Create a button to run the query\n",
    "run_button = tk.Button(root, text=\"Run Query\", command=run_query)\n",
    "run_button.pack(pady=10)\n",
    "\n",
    "# Create a scrollable text widget to display results\n",
    "result_label = tk.Label(root, text=\"Query Results:\")\n",
    "result_label.pack(pady=10)\n",
    "\n",
    "result_frame = tk.Frame(root)\n",
    "result_frame.pack(pady=5)\n",
    "\n",
    "scrollbar = Scrollbar(result_frame)\n",
    "scrollbar.pack(side=tk.RIGHT, fill=tk.Y)\n",
    "\n",
    "result_text = Text(result_frame, height=10, width=80, wrap=tk.WORD, yscrollcommand=scrollbar.set)\n",
    "result_text.pack()\n",
    "\n",
    "scrollbar.config(command=result_text.yview)\n",
    "\n",
    "# Run the GUI\n",
    "root.mainloop()\n"
   ]
  },
  {
   "cell_type": "code",
   "execution_count": null,
   "id": "d6676a04",
   "metadata": {},
   "outputs": [],
   "source": []
  },
  {
   "cell_type": "code",
   "execution_count": null,
   "id": "96b50655",
   "metadata": {},
   "outputs": [],
   "source": []
  }
 ],
 "metadata": {
  "kernelspec": {
   "display_name": "Python 3 (ipykernel)",
   "language": "python",
   "name": "python3"
  },
  "language_info": {
   "codemirror_mode": {
    "name": "ipython",
    "version": 3
   },
   "file_extension": ".py",
   "mimetype": "text/x-python",
   "name": "python",
   "nbconvert_exporter": "python",
   "pygments_lexer": "ipython3",
   "version": "3.11.4"
  }
 },
 "nbformat": 4,
 "nbformat_minor": 5
}
